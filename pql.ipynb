{
 "cells": [
  {
   "cell_type": "markdown",
   "metadata": {},
   "source": [
    "# Pareto Q-Learning\n",
    "\n",
    "Pareto Q-learning (PQL) is a multi-objective reinforcement learning (MORL) algorithm that learns a set of Pareto-optimal policies. The algorithm is based on the Q-learning algorithm, but it uses a multi-objective Q-function to learn a set of policies that are optimal with respect to multiple objectives. **It is a multi-policy algorithm that learns a set of Pareto dominating policies in a single run.** The key features of PQL are as follows:\n",
    "\n",
    "* tabular method\n",
    "* multi-policy algorithm\n",
    "* bootstraps sets of Q-vectors\n",
    "* separates the expected immediate reward vector from the set of expected future discounted reward vectors\n",
    "* set evaluation mechanism for exploration\n",
    "* consistently tracking a policy\n",
    "\n",
    "Ok, let's dive into the details of the algorithm.\n",
    "\n",
    "> Note: We assume that you are familiar with single-objective RL and basic concepts of multi-objective RL. If not, please refer to the [MORL Introduction](introduction.ipynb) notebook.\n",
    "\n",
    "References:\n",
    "\n",
    "* **Paper**: [Multi-Objective Reinforcement Learning using Sets of Pareto Dominating Policies](https://www.jmlr.org/papers/volume15/vanmoffaert14a/vanmoffaert14a.pdf)  \n",
    "* **Source Code**: [LucasAlegre/morl_baselines/multi_policy/pareto_q_learning/pql.py (Github)](https://github.com/LucasAlegre/morl-baselines/blob/main/morl_baselines/multi_policy/pareto_q_learning/pql.py)"
   ]
  },
  {
   "cell_type": "code",
   "execution_count": 1,
   "metadata": {},
   "outputs": [],
   "source": [
    "# Import all necessary libraries\n",
    "import gymnasium as gym\n",
    "import matplotlib.pyplot as plt\n",
    "import mo_gymnasium as mo_gym\n",
    "import numpy as np\n",
    "from IPython import display\n",
    "from pymoo.indicators.hv import HV\n",
    "\n",
    "from src.pareto import get_non_dominated"
   ]
  },
  {
   "cell_type": "markdown",
   "metadata": {},
   "source": [
    "## Background"
   ]
  },
  {
   "cell_type": "markdown",
   "metadata": {},
   "source": [
    "In this section, we present the brief background necessary to understand PQL. First of all, we introduce a multi-objective markov decision process (MOMDP):\n",
    "\n",
    "* state space $S = \\{ s_1, \\dots, s_N \\}$\n",
    "* action space $A = \\{ a_1, \\dots, a_r \\}$\n",
    "* transition probability $T(s' \\vert s,a)$\n",
    "* reward vector function $\\mathbf{R}(s,a) = (R_1(s,a), \\dots, R_m(s,a))$\n",
    "* discount factor $\\gamma \\in [0,1]$\n",
    "\n",
    "where $m$ is the number of objectives. The goal of the MOMDP is to find a set of policies that are optimal with respect to multiple objectives. In this case, the value function is vectorial given policy $\\pi(a \\vert s)$:\n",
    "\n",
    "$$\n",
    "\\mathbf{V}^\\pi(s) = \\mathbb{E}_\\pi \\left[ \\sum_{t=0}^\\infty \\gamma^t \\mathbf{R}(s_t, a_t) \\vert s_0 = s \\right] \\tag{1}\n",
    "$$\n",
    "\n",
    "Multi-policy algorithms do not reduce the dimensionality of the objective space but aim to learn a set of optimal solutions at once. In the case of the dynamic programming (DP) algorithm that computes a set of Pareto dominating policies, the DP function is defined as follows:\n",
    "\n",
    "$$\n",
    "\\hat{Q}_{set}(s,a) = \\mathbf{R}(s,a) \\oplus \\gamma \\sum_{s' \\in S} T(s' \\vert s,a) V^{ND}(s') \\tag{2}\n",
    "$$\n",
    "\n",
    "where $V^{ND}(s')$ is the set of non-dominated vectors of the $\\hat{Q}_{set}$'s of each action in $s'$:\n",
    "\n",
    "$$\n",
    "V^{ND}(s') = ND(\\cup_{a'} \\hat{Q}_{set}(s',a')) \\tag{3}\n",
    "$$\n",
    "\n",
    "and $\\oplus$ operator performs a vector-sum between a vector $\\mathbf{v}$ and a set of vectors $V$:\n",
    "\n",
    "$$\n",
    "\\mathbf{v} \\oplus V = \\bigcup_{\\mathbf{v'} \\in V} (\\mathbf{v} + \\mathbf{v'}) \\tag{4}\n",
    "$$\n",
    "\n",
    "Of course, the DP function assumes a perfect knowledge of the environment, i.e., it's model-based."
   ]
  },
  {
   "cell_type": "markdown",
   "metadata": {},
   "source": [
    "## Method"
   ]
  },
  {
   "cell_type": "markdown",
   "metadata": {},
   "source": [
    "Pareto Q-learning is based on the above DP function and learns deterministic non-stationary policies. Also, it works model-free."
   ]
  },
  {
   "cell_type": "markdown",
   "metadata": {},
   "source": [
    "### Set Evaluation Mechanism"
   ]
  },
  {
   "cell_type": "markdown",
   "metadata": {},
   "source": [
    "In the conventional Q-learning algorithm, the agent selects an action based on the scalar Q-values. But, in multi-policy algorithms, there exist Q-vector sets not scalar Q-values. Thus, for ordering the Q-vector sets for each action $a$, PQL introduces a set evaluation mechanism that obtains a scalar evaluation of the Q-vector set $\\hat{Q}_{set}(s,a)$. The authors proposed three evaluation mechanisms, but we will focus on only the hypervolume set evaluation mechanism for simplicity. Refer to the paper for the other two mechanisms.\n",
    "\n",
    "Hypervolume is a measure of the volume of the objective space dominated by a set of non-dominated policies: a Pareto front (see below figure).\n",
    "\n",
    "![](img/pql/hypervolume.png)\n",
    "\n",
    "This measure is well-suited for two reasons:\n",
    "\n",
    "1. the only quality indicator to be strictly monotonic with the Pareto dominance relation\n",
    "2. provides a scalar measure of a set of non-dominated vectors \n",
    "\n",
    "The evaluation algorithm is as follows:\n",
    "\n",
    "![](img/pql/hypervolume-evaluation-algorithm.png)\n",
    "\n",
    "Then, the calculated evaluations can be used in action selection strategy (e.g., $\\epsilon$-greedy), similar to the conventional Q-learning. The crucial parameter is the reference point. This parameter is problem-specific and should be chosen with great care.\n",
    "\n",
    "Okay, let's implement the evaluation mechanism and policy in Python."
   ]
  },
  {
   "cell_type": "code",
   "execution_count": 2,
   "metadata": {},
   "outputs": [],
   "source": [
    "def hypervolume(ref_point: np.ndarray, points: np.ndarray) -> float:\n",
    "    # -1 for maximization problems\n",
    "    return HV(ref_point=ref_point * -1)(points * -1)"
   ]
  },
  {
   "cell_type": "code",
   "execution_count": 3,
   "metadata": {},
   "outputs": [],
   "source": [
    "class Policy:\n",
    "    def __init__(self, ref_point: np.ndarray, n_actions: int):\n",
    "        self.ref_point = ref_point\n",
    "        self.n_actions = n_actions\n",
    "    \n",
    "    def select_action(self, q_vec_sets, epsilon=0.1) -> int:\n",
    "        \"\"\"Select an action given the current Q-vector sets.\"\"\"\n",
    "        # epsilon-greedy policy\n",
    "        if np.random.rand() < epsilon:\n",
    "            return np.random.randint(self.n_actions)\n",
    "        else:\n",
    "            action_evals = self.hypervolume_eval(q_vec_sets)\n",
    "            # select randomly among actions with the highest value\n",
    "            return np.random.choice(np.argwhere(action_evals == np.max(action_evals)).flatten())\n",
    "    \n",
    "    def hypervolume_eval(self, q_vec_sets):\n",
    "        hypervolumes = []\n",
    "        # calculate hypervolume for each action\n",
    "        for action in range(self.n_actions):\n",
    "            q_vec_set = q_vec_sets[action]\n",
    "            hv = hypervolume(self.ref_point, np.array(list(q_vec_set)))\n",
    "            hypervolumes.append(hv)\n",
    "        return np.array(hypervolumes)"
   ]
  },
  {
   "cell_type": "markdown",
   "metadata": {},
   "source": [
    "### Set-Based Bootstrapping"
   ]
  },
  {
   "cell_type": "markdown",
   "metadata": {},
   "source": [
    "How to update the set of vectors of the current state-action $(s,a)$-pair with an observed reward vector $\\mathbf{r}$ and a set of non-dominated vectors of the next state $ND(\\cup_{a'} \\hat{Q}_{set}(s',a'))$ over time? The main problem is the lack of *correspondence*, i.e., it is not clear which vector of the set of the current $(s,a)$-pair to update with which vector in $s'$ (see below figure).\n",
    "\n",
    "![](img/pql/set-based-bootstrapping.png)\n",
    "\n",
    "To solve this problem, PQL utilizes the idea of storing two estimates separately: the average observed immediate reward vector $\\overline{\\mathfrak{R}}(s,a)$ and the set of non-dominated vectors $ND_t(s,a)$ in the next state of $s$ that is reached through action $a$ at time step $t$. The $\\hat{Q}_{set}(s,a)$ can be calculated *at run time* by performing a vector-sum over the average immediate reward vector and the set of discounted Pareto dominating future rewards:\n",
    "\n",
    "$$\n",
    "\\hat{Q}_{set}(s,a) \\leftarrow \\overline{\\mathfrak{R}}(s,a) \\oplus \\gamma ND_t(s,a) \\tag{5}\n",
    "$$ \n",
    "\n",
    "Since it doesn't store $\\hat{Q}_{set}(s,a)$ and calculates the set at run time, no explicit correspondence between the two sets is required. The overall PQL algorithm is as follows:\n",
    "\n",
    "![](img/pql/pareto-q-learning-algorithm.png)\n",
    "\n",
    "Okay, let's implement the PQL algorithm in Python!"
   ]
  },
  {
   "cell_type": "code",
   "execution_count": 4,
   "metadata": {},
   "outputs": [],
   "source": [
    "class PQL:\n",
    "    def __init__(self, env: gym.Env, eval_env: gym.Env, ref_point: np.ndarray, gamma=0.99, init_eps=1.0, eps_decay=0.995):\n",
    "        self.env = env\n",
    "        self.eval_env = eval_env\n",
    "        # asumme that both the state space and the action space are discrete\n",
    "        self.n_states = env.observation_space.n\n",
    "        self.n_actions = env.action_space.n\n",
    "        self.n_objectives = env.unwrapped.reward_space.shape[0]\n",
    "        \n",
    "        self.ref_point = ref_point\n",
    "        self.gamma = gamma\n",
    "        self.eps = init_eps\n",
    "        self.eps_decay = eps_decay\n",
    "        \n",
    "        # initialize the policy\n",
    "        self.policy = Policy(self.ref_point, self.n_actions)\n",
    "        \n",
    "        # initialize the average reward vectors and the non-dominated sets\n",
    "        self.counts = np.zeros((self.n_states, self.n_actions))\n",
    "        self.avg_reward_vectors = np.zeros((self.n_states, self.n_actions, self.n_objectives))\n",
    "        # non_dominated_sets[s][a] is a set of non-dominated Q-vectors\n",
    "        self.non_dominated_sets = [\n",
    "            [{tuple(np.zeros(self.n_objectives))} for _ in range(self.n_actions)] for _ in range(self.n_states)\n",
    "        ]\n",
    "        \n",
    "    def calc_q_vec_set(self, state, action):\n",
    "        # (n_vectors, n_objectives)\n",
    "        ND = np.array(list(self.non_dominated_sets[state][action]))\n",
    "        # (n_objectives,)\n",
    "        avg_reward_vec = self.avg_reward_vectors[state, action]\n",
    "        # (n_vectors, n_objectives)\n",
    "        q_vec_set = avg_reward_vec + self.gamma * ND\n",
    "        return {tuple(q_vec) for q_vec in q_vec_set}\n",
    "    \n",
    "    def calc_non_dominated_set(self, state: int):\n",
    "        q_vec_sets = [self.calc_q_vec_set(state, action) for action in range(self.n_actions)]\n",
    "        candidates = set().union(*q_vec_sets)\n",
    "        non_dominated = get_non_dominated(candidates)\n",
    "        return non_dominated\n",
    "    \n",
    "    def train(self, n_episodes: int):\n",
    "        for _ in range(n_episodes):\n",
    "            # initialize state\n",
    "            state, _ = self.env.reset()\n",
    "            terminated = False\n",
    "            truncated = False\n",
    "            \n",
    "            while not (terminated or truncated):\n",
    "                # select action using a policy\n",
    "                q_vec_sets = [self.calc_q_vec_set(state, action) for action in range(self.n_actions)]\n",
    "                action = self.policy.select_action(q_vec_sets, epsilon=self.eps)\n",
    "                next_state, reward_vector, terminated, truncated, _ = self.env.step(action)\n",
    "                \n",
    "                # update the current non-dominated set and the current average reward vector\n",
    "                self.non_dominated_sets[state][action] = self.calc_non_dominated_set(next_state)\n",
    "                self.counts[state, action] += 1\n",
    "                self.avg_reward_vectors[state, action] += (reward_vector - self.avg_reward_vectors[state, action]) / self.counts[state, action]\n",
    "                \n",
    "                # proceed to the next state\n",
    "                state = next_state\n",
    "                \n",
    "        return self.calc_non_dominated_set(state=0)"
   ]
  },
  {
   "cell_type": "markdown",
   "metadata": {},
   "source": [
    "### Consistently Tracking a Policy"
   ]
  },
  {
   "cell_type": "markdown",
   "metadata": {},
   "source": [
    "In multi-policy setting, you need to select actions *consistently* in order to retrieve a desired policy based on the $\\hat{\\mathbf{Q}}$-vectors. If you would select actions based on *local* information about the 'local' Pareto front attainable from each action, then there is no guarantee that the cumulative reward vectors obtained throughout the episode will be *globally* Pareto optimal. In other words, when in a state where multiple actions are considered non-dominated and therefore are incomparable, you should not randomly select between these actions when exploiting but actions need to be selected consistently (see below figure).\n",
    "\n",
    "![](img/pql/policy-tracking.png)\n",
    "\n",
    "To solve the problem, PQL defines a globally greedy policy as a policy $\\pi$ that consistently *follows* or *tracks* a given expected return vector $\\mathbf{V}^\\pi(s)$ from a state $s$ so that its return equals $\\mathbf{V}^\\pi(s)$ in expectation. \n",
    "\n",
    "But, How? First of all, for each action, the agent retrieves both $\\mathfrak{R}(s,a)$ and $ND_t(s,a)$. Then, if the sum of these two components equals the target return vector $\\mathbf{V}^\\pi(s)$ to follow, the agent selects the corresponding action, proceeds to the next state and updates the target. The policy tracking algorithm is as follows:\n",
    "\n",
    "![](img/pql/policy-tracking-algorithm.png)\n",
    "\n",
    "Okay, let's implement the policy tracking algorithm in Python!"
   ]
  },
  {
   "cell_type": "code",
   "execution_count": 5,
   "metadata": {},
   "outputs": [],
   "source": [
    "def track_policy(pql: PQL, env: gym.Env, target: np.ndarray):\n",
    "    # initialize state\n",
    "    state, _ = env.reset()\n",
    "    terminated = False\n",
    "    truncated = False\n",
    "    cumulativbe_reward_vec = np.zeros(pql.n_objectives)\n",
    "    current_gamma = 1.0\n",
    "    tol = 1e-3\n",
    "    \n",
    "    while not (terminated or truncated):\n",
    "        closest_dist = np.inf\n",
    "        closest_action = 0\n",
    "        found_action = False\n",
    "        new_target = target\n",
    "        \n",
    "        for action in range(pql.n_actions):\n",
    "            reward_vec = pql.avg_reward_vectors[state, action]\n",
    "            ND = pql.non_dominated_sets[state][action]\n",
    "            # find the closest Q-vector to the target\n",
    "            for Q in ND:\n",
    "                Q = np.array(Q)\n",
    "                dist = np.sum(np.abs(pql.gamma * Q + reward_vec - target))\n",
    "                if dist < closest_dist:\n",
    "                    closest_dist = dist\n",
    "                    closest_action = action\n",
    "                    new_target = Q\n",
    "                    \n",
    "                    if dist < tol:\n",
    "                        found_action = True\n",
    "                        break\n",
    "                    \n",
    "                if found_action:\n",
    "                    break\n",
    "                \n",
    "        # take the action\n",
    "        state, reward, terminated, truncated, _ = env.step(closest_action)\n",
    "        cumulativbe_reward_vec += current_gamma * reward\n",
    "        current_gamma *= pql.gamma\n",
    "        # update the target\n",
    "        target = new_target\n",
    "    \n",
    "    return cumulativbe_reward_vec"
   ]
  },
  {
   "cell_type": "markdown",
   "metadata": {},
   "source": [
    "## Run"
   ]
  },
  {
   "cell_type": "markdown",
   "metadata": {},
   "source": [
    "We will experiment with the PQL algorithm on the Deep Sea Treasure environment. This environment is classic MORL problem in which the agent controls a submarine in a 2D grid world. It has two objectives and is known to have the non-convex (concave) Pareto front. See details in [MO-Gymnasium/Deep-Sea-Treasure-Concave](https://mo-gymnasium.farama.org/environments/deep-sea-treasure-concave/).\n",
    "\n",
    "PQL can solve non-convex Pareto front problems since it treats every Pareto optimal solution equally in the bootstrapping process. We will show that it can really do that through the experiment."
   ]
  },
  {
   "cell_type": "code",
   "execution_count": 6,
   "metadata": {},
   "outputs": [
    {
     "name": "stdout",
     "output_type": "stream",
     "text": [
      "Observation space: Box(0, 11, (2,), int32)\n",
      "Action space: Discrete(4)\n",
      "Reward space: Box([ 0. -1.], [23.7 -1. ], (2,), float32)\n"
     ]
    }
   ],
   "source": [
    "env = mo_gym.make(\"deep-sea-treasure-v0\")\n",
    "\n",
    "print(f\"Observation space: {env.observation_space}\")\n",
    "print(f\"Action space: {env.action_space}\")\n",
    "print(f\"Reward space: {env.unwrapped.reward_space}\")"
   ]
  },
  {
   "cell_type": "markdown",
   "metadata": {},
   "source": [
    "Since the observation space is `Box` and has `(2,)` shape, we will convert it to `Discrete` for compatibility with our `PQL`."
   ]
  },
  {
   "cell_type": "code",
   "execution_count": 7,
   "metadata": {},
   "outputs": [],
   "source": [
    "class GridToDiscreteWrapper(gym.ObservationWrapper):\n",
    "    def __init__(self, env):\n",
    "        super(GridToDiscreteWrapper, self).__init__(env)\n",
    "        self.env_shape = self.observation_space.high - self.observation_space.low + 1\n",
    "        self.observation_space = gym.spaces.Discrete(np.prod(self.env_shape))\n",
    "    \n",
    "    def observation(self, observation):\n",
    "        return np.ravel_multi_index(observation, self.env_shape)"
   ]
  },
  {
   "cell_type": "markdown",
   "metadata": {},
   "source": [
    "Initialize the environment."
   ]
  },
  {
   "cell_type": "code",
   "execution_count": 8,
   "metadata": {},
   "outputs": [
    {
     "name": "stdout",
     "output_type": "stream",
     "text": [
      "Observation space: Discrete(144)\n"
     ]
    }
   ],
   "source": [
    "GAMMA = 0.99\n",
    "REF_POINT = np.array([0, -25])\n",
    "EVAL_FREQ = 20\n",
    "TOTAL_EPISODES = 10000\n",
    "\n",
    "env = mo_gym.make(\"deep-sea-treasure-concave-v0\")\n",
    "env = GridToDiscreteWrapper(env)\n",
    "\n",
    "eval_env = mo_gym.make(\"deep-sea-treasure-concave-v0\")\n",
    "eval_env = GridToDiscreteWrapper(eval_env)\n",
    "\n",
    "print(f\"Observation space: {env.observation_space}\")"
   ]
  },
  {
   "cell_type": "markdown",
   "metadata": {},
   "source": [
    "Initialize the PQL agent."
   ]
  },
  {
   "cell_type": "code",
   "execution_count": 9,
   "metadata": {},
   "outputs": [],
   "source": [
    "pql = PQL(env, eval_env, ref_point=REF_POINT, gamma=GAMMA)"
   ]
  },
  {
   "cell_type": "markdown",
   "metadata": {},
   "source": [
    "Training start!"
   ]
  },
  {
   "cell_type": "code",
   "execution_count": 10,
   "metadata": {},
   "outputs": [
    {
     "data": {
      "image/png": "[encoded data removed]",
      "text/plain": [
       "<Figure size 640x480 with 1 Axes>"
      ]
     },
     "metadata": {},
     "output_type": "display_data"
    }
   ],
   "source": [
    "episodes = []\n",
    "hv_list = []\n",
    "\n",
    "for i in range(TOTAL_EPISODES // EVAL_FREQ):\n",
    "    pf = pql.train(EVAL_FREQ)\n",
    "    hv = hypervolume(REF_POINT, np.array(list(pf)))\n",
    "    hv_list.append(hv)\n",
    "    episodes.append(i * EVAL_FREQ)\n",
    "    \n",
    "    display.clear_output(wait=True)\n",
    "    plt.plot(episodes, hv_list)\n",
    "    plt.xlabel(\"Episodes\")\n",
    "    plt.ylabel(\"Hypervolume\")\n",
    "    plt.title(\"Hypervolume over episodes\")\n",
    "    plt.show()"
   ]
  },
  {
   "cell_type": "markdown",
   "metadata": {},
   "source": [
    "You can see that the performance is continuously improving. Now, let's visualize the Pareto front of the learned policies."
   ]
  },
  {
   "cell_type": "code",
   "execution_count": 11,
   "metadata": {},
   "outputs": [
    {
     "data": {
      "image/png": "[encoded data removed]",
      "text/plain": [
       "<Figure size 640x480 with 1 Axes>"
      ]
     },
     "metadata": {},
     "output_type": "display_data"
    }
   ],
   "source": [
    "pf_evals = []\n",
    "for target in pql.calc_non_dominated_set(state=0):\n",
    "    pf_eval = track_policy(pql, eval_env, target)\n",
    "    pf_evals.append(pf_eval)\n",
    "    \n",
    "pf_evals = np.array(pf_evals)\n",
    "    \n",
    "plt.scatter(pf_evals[:, 0], pf_evals[:, 1])\n",
    "plt.xlabel(\"Objective 1\")\n",
    "plt.ylabel(\"Objective 2\")\n",
    "plt.title(\"Pareto front\")\n",
    "plt.show()"
   ]
  },
  {
   "cell_type": "markdown",
   "metadata": {},
   "source": [
    "You can see that the Pareto front is non-convex or concave. Also, the PQL algorithm can learn a variety of policies that are Pareto optimal."
   ]
  }
 ],
 "metadata": {
  "kernelspec": {
   "display_name": "morl-notebooks",
   "language": "python",
   "name": "python3"
  },
  "language_info": {
   "codemirror_mode": {
    "name": "ipython",
    "version": 3
   },
   "file_extension": ".py",
   "mimetype": "text/x-python",
   "name": "python",
   "nbconvert_exporter": "python",
   "pygments_lexer": "ipython3",
   "version": "3.10.14"
  }
 },
 "nbformat": 4,
 "nbformat_minor": 2
}
